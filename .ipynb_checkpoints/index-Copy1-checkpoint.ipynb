{
 "cells": [
  {
   "cell_type": "markdown",
   "metadata": {},
   "source": [
    "## Ridge, Lasso and Elastic Net\n",
    "At this point we've seen a number of criteria and algorithms for fitting regression models to data. We've seen the simple linear regression using ordinary least squares, and its more general regression of polynomial functions. We've also seen how we can arbitrarily overfit models to data using kernel methods or feature engineering. With all of that, we began to explore other tools to analyze this general problem of overfitting versus underfitting. This included train and test splits, bias and variance, and cross validation.\n",
    "\n",
    "Now we're going to take a look at another way to tune our models. These methods all modify our mean squared error function that we were optimizing against. The modifications will add a penalty for large coefficient weights in our resulting model. If we think back to our case of feature engineering, we can see how this penalty will help combat our ability to create more accurate models by simply adding additional features.\n",
    "\n",
    "In general, all of these penalties are known as $L^p norms$."
   ]
  },
  {
   "cell_type": "markdown",
   "metadata": {},
   "source": [
    "## $L^p$ norm of x\n",
    "In order to help account for underfitting and overfitting, we often use what are called $L^p$ norms.   \n",
    "The **$L^p$ norm of x** is defined as:  \n",
    "\n",
    "### $||x||_p  =  \\big(\\sum_{i} x_i^p\\big)^\\frac{1}{p}$"
   ]
  },
  {
   "cell_type": "markdown",
   "metadata": {},
   "source": [
    "## 1. Ridge (L2)\n",
    "One common normalization is called Ridge Regression and uses the $l_2$ norm (also known as the Euclidean norm) as defined above.   \n",
    "The ridge coefficients minimize a penalized residual sum of squares:    \n",
    "    $ \\sum(\\hat{y}-y)^2 + \\lambda\\bullet w^2$\n",
    "\n",
    "Write this loss function for performing ridge regression."
   ]
  },
  {
   "cell_type": "code",
   "execution_count": null,
   "metadata": {},
   "outputs": [],
   "source": [
    "import numpy as np"
   ]
  },
  {
   "cell_type": "code",
   "execution_count": 36,
   "metadata": {},
   "outputs": [],
   "source": [
    "def ridge_loss(y, y_hat, coeff_weights, lam = 0.8):\n",
    "    rss = np.sum((y_hat-y)**2)\n",
    "    norm = np.sum(lam * coeff_weights**2)\n",
    "    l2_err = rss + norm\n",
    "    return l2_err"
   ]
  },
  {
   "cell_type": "markdown",
   "metadata": {},
   "source": [
    "## 2. Lasso (L1)\n",
    "Another common normalization is called Lasso Regression and uses the $l_1$ norm.   \n",
    "The ridge coefficients minimize a penalized residual sum of squares:    \n",
    "    $ \\sum(\\hat{y}-y)^2 + \\lambda\\bullet |w|$\n",
    "\n",
    "Write this loss function for performing ridge regression."
   ]
  },
  {
   "cell_type": "code",
   "execution_count": 37,
   "metadata": {},
   "outputs": [],
   "source": [
    "def lasso_loss(y, y_hat, coeff_weights, lam = 0.8):\n",
    "    rss = np.sum((y_hat-y)**2)\n",
    "    norm = np.sum(lam * np.abs(coeff_weights))\n",
    "    l1_err = rss + norm\n",
    "    return l1_err"
   ]
  },
  {
   "cell_type": "markdown",
   "metadata": {},
   "source": [
    "## 3. Ridge in Practice\n",
    "Modify your polynomial linear regression function to incorporate the Ridge l2 penalty rather then simply MSE."
   ]
  },
  {
   "cell_type": "code",
   "execution_count": 4,
   "metadata": {},
   "outputs": [],
   "source": [
    "import numpy as np"
   ]
  },
  {
   "cell_type": "code",
   "execution_count": 5,
   "metadata": {},
   "outputs": [],
   "source": [
    "np.dot?"
   ]
  },
  {
   "cell_type": "code",
   "execution_count": 48,
   "metadata": {},
   "outputs": [],
   "source": [
    "def gradient_descent(error_function, start_weights, X_train, y_train, step_size_coeff=.4, max_iterations=10**5, precision=10**-10):\n",
    "    iteration = 0 #initialize\n",
    "    cur_error = 1 \n",
    "    previous_step_size = 1\n",
    "    cur_weights = start_weights #Our current starting hypothesis for the optimal weight\n",
    "    while (previous_step_size > precision) & (iteration < max_iterations):\n",
    "        prev_error = cur_error\n",
    "        #Calculate Nearby Points\n",
    "        sample_steps = previous_step_size/5\n",
    "        #Calculate the Gradient\n",
    "        #Look at weights surrounding our current position.\n",
    "        weights_sample_space = np.array([cur_weights+(i*sample_steps) for i in range(-50,51)])\n",
    "\n",
    "        #Calculate the RSS error for this surrounding weights-space.\n",
    "        y_hats = np.array([np.dot(X_train, wi) for wi in weights_sample_space])\n",
    "        weights_error_sample_space = np.array([error_function(y_train, y_hat, weights) for y_hat, weights in list(zip(y_hats, weights_sample_space))])\n",
    "\n",
    "        gradient = np.gradient(weights_error_sample_space)[50] \n",
    "        cur_weights -= step_size_coeff * gradient #Move opposite the gradient\n",
    "#         print('Gradient:', gradient)\n",
    "#         print('Nonzero weights in gradient descent', num_not_zeros(weights))\n",
    "#         plt.scatter(x_survey_region, rss_survey_region)\n",
    "        cur_error = error_function(y_train, np.dot(X_train,cur_weights), cur_weights)\n",
    "        previous_step_size = cur_error - prev_error\n",
    "        iteration += 1\n",
    "    return cur_weights"
   ]
  },
  {
   "cell_type": "markdown",
   "metadata": {},
   "source": [
    "## 4. Lasso in Practice\n",
    "Modify your polynomial linear regression function to incorporate the Lasso l1 penalty rather then simply MSE."
   ]
  },
  {
   "cell_type": "code",
   "execution_count": null,
   "metadata": {},
   "outputs": [],
   "source": [
    "#Your Lasso Linear Regression Function here"
   ]
  },
  {
   "cell_type": "markdown",
   "metadata": {},
   "source": [
    "## 5. Run + Compare your Results\n",
    "Run your ridge and lasso regressions on the dataset below. \n",
    "Then, answer the following questions:\n",
    "* Which model do you think created better results overall? \n",
    "* Comment on the differences between the coefficients of the resulting models"
   ]
  },
  {
   "cell_type": "code",
   "execution_count": 9,
   "metadata": {},
   "outputs": [],
   "source": [
    "import pandas as pd"
   ]
  },
  {
   "cell_type": "code",
   "execution_count": 10,
   "metadata": {},
   "outputs": [],
   "source": [
    "df = pd.read_excel('movie_data_detailed_with_ols.xlsx')\n",
    "df.head()\n",
    "X = df[['budget', 'imdbRating',\n",
    "       'Metascore', 'imdbVotes']]\n",
    "y = df['domgross']\n",
    "def norm(col):\n",
    "    minimum = col.min()\n",
    "    maximum = col.max()\n",
    "    return (col-maximum)/(maximum-minimum)"
   ]
  },
  {
   "cell_type": "code",
   "execution_count": 31,
   "metadata": {},
   "outputs": [],
   "source": [
    "from sklearn.model_selection import train_test_split\n",
    "X_train , X_test, y_train, y_test = train_test_split(X, y)"
   ]
  },
  {
   "cell_type": "code",
   "execution_count": 49,
   "metadata": {},
   "outputs": [
    {
     "data": {
      "text/plain": [
       "array([3.26940007e+15, 3.26940007e+15, 3.26940007e+15, 3.26940007e+15])"
      ]
     },
     "execution_count": 49,
     "metadata": {},
     "output_type": "execute_result"
    }
   ],
   "source": [
    "start_weights = np.array([1.0 for i in range(X_train.shape[1])])\n",
    "gradient_descent(ridge_loss, start_weights, X_train, y_train)"
   ]
  },
  {
   "cell_type": "code",
   "execution_count": null,
   "metadata": {},
   "outputs": [],
   "source": [
    "#Your answers here"
   ]
  },
  {
   "cell_type": "markdown",
   "metadata": {},
   "source": [
    "## 6. Comparison to Standard Packages\n",
    "Sklearn has its own built in functions for performing normalized regression.\n",
    "Repeat question 5 with those built in functions."
   ]
  },
  {
   "cell_type": "code",
   "execution_count": 59,
   "metadata": {},
   "outputs": [],
   "source": [
    "from sklearn.linear_model import Lasso, Ridge, LinearRegression"
   ]
  },
  {
   "cell_type": "code",
   "execution_count": 52,
   "metadata": {},
   "outputs": [],
   "source": [
    "ridge_reg = Ridge()"
   ]
  },
  {
   "cell_type": "code",
   "execution_count": 55,
   "metadata": {},
   "outputs": [
    {
     "data": {
      "text/plain": [
       "array([ 5.90817975e-01, -1.11004777e+07,  2.34686913e+05,  4.47620031e+02])"
      ]
     },
     "execution_count": 55,
     "metadata": {},
     "output_type": "execute_result"
    }
   ],
   "source": [
    "ridge_reg.fit(X_train, y_train)\n",
    "ridge_reg.coef_"
   ]
  },
  {
   "cell_type": "code",
   "execution_count": 56,
   "metadata": {},
   "outputs": [
    {
     "data": {
      "text/plain": [
       "array([ 5.89938089e-01, -1.13130095e+07,  2.46857779e+05,  4.48012896e+02])"
      ]
     },
     "execution_count": 56,
     "metadata": {},
     "output_type": "execute_result"
    }
   ],
   "source": [
    "lasso_reg = Lasso()\n",
    "lasso_reg.fit(X_train, y_train)\n",
    "lasso_reg.coef_"
   ]
  },
  {
   "cell_type": "code",
   "execution_count": 60,
   "metadata": {},
   "outputs": [
    {
     "data": {
      "text/plain": [
       "array([ 5.89938088e-01, -1.13130099e+07,  2.46857808e+05,  4.48012896e+02])"
      ]
     },
     "execution_count": 60,
     "metadata": {},
     "output_type": "execute_result"
    }
   ],
   "source": [
    "lin_reg = LinearRegression()\n",
    "lin_reg.fit(X_train, y_train)\n",
    "lin_reg.coef_"
   ]
  },
  {
   "cell_type": "code",
   "execution_count": 58,
   "metadata": {},
   "outputs": [],
   "source": [
    "import matplotlib.pyplot as plt\n",
    "%matplotlib inline"
   ]
  },
  {
   "cell_type": "code",
   "execution_count": 61,
   "metadata": {},
   "outputs": [
    {
     "data": {
      "text/plain": [
       "<matplotlib.legend.Legend at 0x1a183217b8>"
      ]
     },
     "execution_count": 61,
     "metadata": {},
     "output_type": "execute_result"
    },
    {
     "data": {
      "image/png": "[encoded data removed]",
      "text/plain": [
       "<Figure size 432x288 with 1 Axes>"
      ]
     },
     "metadata": {},
     "output_type": "display_data"
    }
   ],
   "source": [
    "plt.scatter(y_train, ridge_reg.predict(X_train), label='Ridge Train')\n",
    "plt.scatter(y_test, ridge_reg.predict(X_test), label='Ridge Test')\n",
    "\n",
    "plt.scatter(y_train, lasso_reg.predict(X_train), label='Lasso Train')\n",
    "plt.scatter(y_test, lasso_reg.predict(X_test), label='Lasso Test')\n",
    "\n",
    "plt.scatter(y_train, lin_reg.predict(X_train), label='Ridge Train')\n",
    "plt.scatter(y_test, lin_reg.predict(X_test), label='Ridge Test')\n",
    "\n",
    "plt.legend()\n"
   ]
  },
  {
   "cell_type": "code",
   "execution_count": 63,
   "metadata": {},
   "outputs": [],
   "source": [
    "def rss(residual_col):\n",
    "    return sum(residual_col.astype(float).map(lambda x: x**2))"
   ]
  },
  {
   "cell_type": "code",
   "execution_count": 64,
   "metadata": {},
   "outputs": [
    {
     "name": "stdout",
     "output_type": "stream",
     "text": [
      "Train Error  Ridge Model 1.3306354186076942e+17\n",
      "Test Error Ridge Model 4.1769518402045096e+16\n",
      "Train Error Lasso Model 1.3306117979483723e+17\n",
      "Test Error Lasso Model 4.185420332679795e+16\n",
      "Train Error Unpenalized Linear Model 1.3306117979483725e+17\n",
      "Test Error Unpenalized  Linear Model 4.185420345537662e+16\n"
     ]
    }
   ],
   "source": [
    "print('Train Error  Ridge Model', rss(y_train - ridge_reg.predict(X_train)))\n",
    "print('Test Error Ridge Model', rss(y_test - ridge_reg.predict(X_test)))\n",
    "\n",
    "print('Train Error Lasso Model', rss(y_train - lasso_reg.predict(X_train)))\n",
    "print('Test Error Lasso Model', rss(y_test - lasso_reg.predict(X_test)))\n",
    "\n",
    "print('Train Error Unpenalized Linear Model', rss(y_train - lin_reg.predict(X_train)))\n",
    "print('Test Error Unpenalized  Linear Model', rss(y_test - lin_reg.predict(X_test)))"
   ]
  },
  {
   "cell_type": "code",
   "execution_count": null,
   "metadata": {},
   "outputs": [],
   "source": []
  }
 ],
 "metadata": {
  "kernelspec": {
   "display_name": "Python 3",
   "language": "python",
   "name": "python3"
  },
  "language_info": {
   "codemirror_mode": {
    "name": "ipython",
    "version": 3
   },
   "file_extension": ".py",
   "mimetype": "text/x-python",
   "name": "python",
   "nbconvert_exporter": "python",
   "pygments_lexer": "ipython3",
   "version": "3.6.5"
  }
 },
 "nbformat": 4,
 "nbformat_minor": 2
}
